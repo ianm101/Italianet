{
 "cells": [
  {
   "cell_type": "code",
   "execution_count": null,
   "metadata": {
    "collapsed": true
   },
   "outputs": [],
   "source": [
    "MODEL_NAME = 'italiaNet_v2'\n",
    "IMG_SIZE = 128\n"
   ]
  },
  {
   "cell_type": "code",
   "execution_count": null,
   "metadata": {
    "collapsed": true
   },
   "outputs": [],
   "source": [
    "##CONSTRUCTING THE NETWORK##\n",
    "\n",
    "from tflearn.layers.core import input_data, fully_connected, dropout\n",
    "from tflearn.layers.conv import conv_2d, max_pool_2d\n",
    "from tflearn.layers.estimator import regression\n",
    "\n",
    "net = input_data(shape=(None,128,128,3))\n",
    "net = conv_2d(net, 32, 3, activation='relu',regularizer='L2')\n",
    "net = max_pool_2d(net, 2)\n",
    "\n",
    "net = conv_2d(net, 64, 3, activation='relu',regularizer='L2')\n",
    "net = max_pool_2d(net, 2)\n",
    "\n",
    "net = conv_2d(net, 128, 3, activation='relu',regularizer='L2')\n",
    "net = max_pool_2d(net, 2)\n",
    "\n",
    "net = conv_2d(net, 256, 3, activation='relu',regularizer='L2')\n",
    "net = max_pool_2d(net, 2)\n",
    "\n",
    "\n",
    "net = fully_connected(net, 128, activation='relu')\n",
    "net = dropout(net, 0.8)\n",
    "\n",
    "net = fully_connected(net, 2, activation='softmax')\n",
    "\n",
    "net = regression(net, optimizer='adam', learning_rate=1e-3,\n",
    "                     loss='categorical_crossentropy')"
   ]
  },
  {
   "cell_type": "code",
   "execution_count": null,
   "metadata": {},
   "outputs": [],
   "source": [
    "#LOAD DATA FOR DISPLAY##\n",
    "\n",
    "import matplotlib.pyplot as plt\n",
    "import h5py\n",
    "import numpy as np\n",
    "import random\n",
    "from tflearn.models.dnn import DNN\n",
    "\n",
    "model = DNN(net)\n",
    "model.load('{}.model'.format(MODEL_NAME))\n",
    "\n",
    "h5f = h5py.File('dataset.h5', 'r')\n",
    "imgs = np.asarray(h5f['X'])\n",
    "labels = h5f['Y']"
   ]
  },
  {
   "cell_type": "code",
   "execution_count": null,
   "metadata": {},
   "outputs": [],
   "source": [
    "##DISPLAY DATA##\n",
    "\n",
    "fig = plt.figure()\n",
    "random.shuffle(imgs)\n",
    "\n",
    "for num, data in enumerate(imgs[-12:]):\n",
    "    img_data = data\n",
    "    y = fig.add_subplot(3,4,num+1)\n",
    "    orig = img_data\n",
    "    data = img_data.reshape(IMG_SIZE, IMG_SIZE, 3)\n",
    "    \n",
    "    model_out = model.predict([data])[0]\n",
    "    \n",
    "    if np.argmax(model_out) == 1: str_label = 'Pizza'\n",
    "    else: str_label = 'Calzone'\n",
    "    \n",
    "    pizzaness = round(model_out[1]*100, 2)\n",
    "    \n",
    "   # if pizzaness >= 50:\n",
    "   #     str_label = '{}% pizza'.format(pizzaness)\n",
    "   # else:\n",
    "   #     str_label = '{}% calzone'.format(100-pizzaness)\n",
    "    \n",
    "    y.imshow(orig)\n",
    "    plt.title(str_label)\n",
    "    y.axes.get_xaxis().set_visible(False)\n",
    "    y.axes.get_yaxis().set_visible(False)\n",
    "  \n",
    "plt.show()"
   ]
  },
  {
   "cell_type": "code",
   "execution_count": null,
   "metadata": {},
   "outputs": [],
   "source": [
    "import cv2\n",
    "import numpy as np\n",
    "from matplotlib import pyplot as plt\n",
    "\n",
    "img = cv2.imread(\"sample.jpg\")\n",
    "orig = cv2.cvtColor(img, cv2.COLOR_BGR2RGB)\n",
    "\n",
    "im = cv2.resize(orig,(128,128))\n",
    "\n",
    "model_out = model.predict([im])[0]\n",
    "#np.reshape(im,(128,128,3))\n",
    "print(model_out)\n",
    "pizzaness = round(model_out[1]*100, 2)\n",
    "    \n",
    "if pizzaness >= 50:\n",
    "    str_label = '{}% Pizza'.format(pizzaness)\n",
    "else:\n",
    "    str_label = '{}% Calzone'.format(100-pizzaness)\n",
    "\n",
    "plt.imshow(orig,interpolation='nearest')\n",
    "plt.title(str_label)\n",
    "plt.show()\n"
   ]
  },
  {
   "cell_type": "code",
   "execution_count": null,
   "metadata": {
    "collapsed": true
   },
   "outputs": [],
   "source": []
  },
  {
   "cell_type": "code",
   "execution_count": null,
   "metadata": {
    "collapsed": true
   },
   "outputs": [],
   "source": []
  }
 ],
 "metadata": {
  "kernelspec": {
   "display_name": "Python 3",
   "language": "python",
   "name": "python3"
  },
  "language_info": {
   "codemirror_mode": {
    "name": "ipython",
    "version": 3
   },
   "file_extension": ".py",
   "mimetype": "text/x-python",
   "name": "python",
   "nbconvert_exporter": "python",
   "pygments_lexer": "ipython3",
   "version": "3.6.1"
  }
 },
 "nbformat": 4,
 "nbformat_minor": 2
}
