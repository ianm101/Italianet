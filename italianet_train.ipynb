{
 "cells": [
  {
   "cell_type": "code",
   "execution_count": 1,
   "metadata": {},
   "outputs": [
    {
     "name": "stdout",
     "output_type": "stream",
     "text": [
      "curses is not supported on this machine (please install/reinstall curses for an optimal experience)\n"
     ]
    }
   ],
   "source": [
    "##BUILD AND SAVE DATASET##\n",
    "img_folder = 'images'\n",
    "from tflearn.data_utils import build_hdf5_image_dataset\n",
    "import os\n",
    "\n",
    "#Deletes hidden .DS_Store file from sub\n",
    "try:\n",
    "    for sub in os.listdir(img_folder):\n",
    "        if not sub  == '.DS_Store':\n",
    "            os.remove('{}/{}/.DS_Store'.format(img_folder,sub))\n",
    "except:\n",
    "    pass\n",
    "\n",
    "build_hdf5_image_dataset(img_folder, \n",
    "                         image_shape=(128, 128), #resizes\n",
    "                         mode='folder', \n",
    "                         output_path='dataset.h5', #saves data to a file\n",
    "                         categorical_labels=True, \n",
    "                         normalize=True)\n",
    "\n",
    "##Only need run the above once##"
   ]
  },
  {
   "cell_type": "markdown",
   "metadata": {},
   "source": [
    "[1,0] == CALZONE\n",
    "[0,1] == PIZZA\n",
    "Eg: [Calzone-ness, Pizza-ness]"
   ]
  },
  {
   "cell_type": "code",
   "execution_count": 2,
   "metadata": {
    "collapsed": true
   },
   "outputs": [],
   "source": [
    "##LOAD IMAGES##\n",
    "import h5py\n",
    "from tflearn.data_utils import shuffle\n",
    "h5f = h5py.File('dataset.h5', 'r')\n",
    "data = h5f['X']\n",
    "labels = h5f['Y']\n",
    "data, labels = shuffle(data,labels) #shuffles the data and labels in parallel"
   ]
  },
  {
   "cell_type": "code",
   "execution_count": 3,
   "metadata": {
    "collapsed": true
   },
   "outputs": [],
   "source": [
    "##CONSTRUCTING THE NETWORK##\n",
    "\n",
    "from tflearn.layers.core import input_data, fully_connected, dropout\n",
    "from tflearn.layers.conv import conv_2d, max_pool_2d\n",
    "from tflearn.layers.estimator import regression\n",
    "\n",
    "net = input_data(shape=(None,128,128,3))\n",
    "net = conv_2d(net, 32, 3, activation='relu',regularizer='L2')\n",
    "net = max_pool_2d(net, 2)\n",
    "\n",
    "net = conv_2d(net, 64, 3, activation='relu',regularizer='L2')\n",
    "net = max_pool_2d(net, 2)\n",
    "\n",
    "net = conv_2d(net, 128, 3, activation='relu',regularizer='L2')\n",
    "net = max_pool_2d(net, 2)\n",
    "\n",
    "net = conv_2d(net, 256, 3, activation='relu',regularizer='L2')\n",
    "net = max_pool_2d(net, 2)\n",
    "\n",
    "\n",
    "net = fully_connected(net, 128, activation='relu')\n",
    "net = dropout(net, 0.8)\n",
    "\n",
    "net = fully_connected(net, 2, activation='softmax')\n",
    "\n",
    "net = regression(net, optimizer='adam', learning_rate=1e-3,\n",
    "                     loss='categorical_crossentropy')"
   ]
  },
  {
   "cell_type": "code",
   "execution_count": 4,
   "metadata": {},
   "outputs": [
    {
     "name": "stdout",
     "output_type": "stream",
     "text": [
      "Training Step: 239  | total loss: \u001b[1m\u001b[32m0.34640\u001b[0m\u001b[0m | time: 4.985s\n",
      "| Adam | epoch: 040 | loss: 0.34640 - acc: 0.9041 -- iter: 320/361\n",
      "Training Step: 240  | total loss: \u001b[1m\u001b[32m0.32285\u001b[0m\u001b[0m | time: 7.154s\n",
      "| Adam | epoch: 040 | loss: 0.32285 - acc: 0.9121 | val_loss: 0.37551 - val_acc: 0.8780 -- iter: 361/361\n",
      "--\n"
     ]
    }
   ],
   "source": [
    "##TRAINING THE MODEL##\n",
    "MODEL_NAME = 'italiaNet_v2'\n",
    "\n",
    "from tflearn.models import dnn\n",
    "model = dnn.DNN(net, tensorboard_verbose=3)\n",
    "model.fit(data, labels, n_epoch=40,\n",
    "           validation_set=.1,\n",
    "           snapshot_step=100, show_metric=True, run_id='italiaNet')"
   ]
  },
  {
   "cell_type": "code",
   "execution_count": 6,
   "metadata": {},
   "outputs": [
    {
     "name": "stdout",
     "output_type": "stream",
     "text": [
      "INFO:tensorflow:D:\\Coding\\Python\\Italianet\\italiaNet_v2.model is not in all_model_checkpoint_paths. Manually adding it.\n"
     ]
    }
   ],
   "source": [
    "##SAVING THE MODEL##\n",
    "model.save('{}.model'.format(MODEL_NAME))"
   ]
  },
  {
   "cell_type": "code",
   "execution_count": null,
   "metadata": {
    "collapsed": true
   },
   "outputs": [],
   "source": []
  },
  {
   "cell_type": "code",
   "execution_count": null,
   "metadata": {
    "collapsed": true
   },
   "outputs": [],
   "source": []
  },
  {
   "cell_type": "code",
   "execution_count": null,
   "metadata": {
    "collapsed": true
   },
   "outputs": [],
   "source": []
  },
  {
   "cell_type": "code",
   "execution_count": null,
   "metadata": {
    "collapsed": true
   },
   "outputs": [],
   "source": []
  }
 ],
 "metadata": {
  "kernelspec": {
   "display_name": "Python 3",
   "language": "python",
   "name": "python3"
  },
  "language_info": {
   "codemirror_mode": {
    "name": "ipython",
    "version": 3
   },
   "file_extension": ".py",
   "mimetype": "text/x-python",
   "name": "python",
   "nbconvert_exporter": "python",
   "pygments_lexer": "ipython3",
   "version": "3.6.1"
  }
 },
 "nbformat": 4,
 "nbformat_minor": 2
}
