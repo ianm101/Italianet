{
 "cells": [
  {
   "cell_type": "code",
   "execution_count": null,
   "metadata": {
    "collapsed": true
   },
   "outputs": [],
   "source": [
    "##BUILD AND SAVE DATASET##\n",
    "img_folder = 'images'\n",
    "from tflearn.data_utils import build_hdf5_image_dataset\n",
    "import os\n",
    "\n",
    "#Deletes hidden .DS_Store file from sub\n",
    "try:\n",
    "    for sub in os.listdir(img_folder):\n",
    "        if not sub  == '.DS_Store':\n",
    "            os.remove('{}/{}/.DS_Store'.format(img_folder,sub))\n",
    "except:\n",
    "    pass\n",
    "\n",
    "build_hdf5_image_dataset(img_folder, \n",
    "                         image_shape=(128, 128), #resizes\n",
    "                         mode='folder', \n",
    "                         output_path='dataset.h5', #saves data to a file\n",
    "                         categorical_labels=True, \n",
    "                         normalize=True)\n",
    "\n",
    "##Only need run the above once##"
   ]
  },
  {
   "cell_type": "markdown",
   "metadata": {},
   "source": [
    "[1,0] == CALZONE\n",
    "[0,1] == PIZZA\n",
    "Eg: [Calzone-ness, Pizza-ness]"
   ]
  },
  {
   "cell_type": "code",
   "execution_count": null,
   "metadata": {},
   "outputs": [],
   "source": [
    "##LOAD IMAGES##\n",
    "import h5py\n",
    "from tflearn.data_utils import shuffle\n",
    "h5f = h5py.File('dataset.h5', 'r')\n",
    "data = h5f['X']\n",
    "labels = h5f['Y']\n",
    "data, labels = shuffle(data,labels) #shuffles the data and labels in parallel"
   ]
  },
  {
   "cell_type": "code",
   "execution_count": null,
   "metadata": {
    "collapsed": true
   },
   "outputs": [],
   "source": [
    "##CONSTRUCTING THE NETWORK##\n",
    "\n",
    "from tflearn.layers.core import input_data, fully_connected, dropout\n",
    "from tflearn.layers.conv import conv_2d, max_pool_2d\n",
    "from tflearn.layers.estimator import regression\n",
    "\n",
    "net = input_data(shape=(None,128,128,3))\n",
    "net = conv_2d(net, 32, 3, activation='relu',regularizer='L2')\n",
    "net = max_pool_2d(net, 2)\n",
    "\n",
    "net = conv_2d(net, 64, 3, activation='relu',regularizer='L2')\n",
    "net = max_pool_2d(net, 2)\n",
    "\n",
    "net = conv_2d(net, 128, 3, activation='relu',regularizer='L2')\n",
    "net = max_pool_2d(net, 2)\n",
    "\n",
    "net = fully_connected(net, 128, activation='relu')\n",
    "net = dropout(net, 0.8)\n",
    "\n",
    "net = fully_connected(net, 256, activation='relu')\n",
    "net = dropout(net, 0.8)\n",
    "\n",
    "net = fully_connected(net, 2, activation='softmax')\n",
    "\n",
    "net = regression(net, optimizer='adam', learning_rate=1e-3,\n",
    "                     loss='categorical_crossentropy')"
   ]
  },
  {
   "cell_type": "code",
   "execution_count": null,
   "metadata": {},
   "outputs": [],
   "source": [
    "##TRAINING THE MODEL##\n",
    "MODEL_NAME = 'italiaNet_v1'\n",
    "\n",
    "from tflearn.models import dnn\n",
    "model = dnn.DNN(net, tensorboard_verbose=3)\n",
    "model.fit(data, labels, n_epoch=40,\n",
    "           validation_set=.1,\n",
    "           snapshot_step=100, show_metric=True, run_id='italiaNet')"
   ]
  },
  {
   "cell_type": "code",
   "execution_count": null,
   "metadata": {},
   "outputs": [],
   "source": [
    "##SAVING THE MODEL##\n",
    "model.save('{}.model'.format(MODEL_NAME))"
   ]
  },
  {
   "cell_type": "code",
   "execution_count": null,
   "metadata": {},
   "outputs": [],
   "source": []
  },
  {
   "cell_type": "code",
   "execution_count": null,
   "metadata": {},
   "outputs": [],
   "source": []
  },
  {
   "cell_type": "code",
   "execution_count": null,
   "metadata": {},
   "outputs": [],
   "source": []
  },
  {
   "cell_type": "code",
   "execution_count": null,
   "metadata": {
    "collapsed": true
   },
   "outputs": [],
   "source": []
  }
 ],
 "metadata": {
  "kernelspec": {
   "display_name": "Python 3",
   "language": "python",
   "name": "python3"
  },
  "language_info": {
   "codemirror_mode": {
    "name": "ipython",
    "version": 3
   },
   "file_extension": ".py",
   "mimetype": "text/x-python",
   "name": "python",
   "nbconvert_exporter": "python",
   "pygments_lexer": "ipython3",
   "version": "3.6.1"
  }
 },
 "nbformat": 4,
 "nbformat_minor": 2
}
